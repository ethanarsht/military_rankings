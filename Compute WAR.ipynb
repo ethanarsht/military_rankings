{
 "cells": [
  {
   "cell_type": "markdown",
   "metadata": {},
   "source": [
    "# Compute WAR scores"
   ]
  },
  {
   "cell_type": "markdown",
   "metadata": {},
   "source": [
    "## Imports and config"
   ]
  },
  {
   "cell_type": "code",
   "execution_count": null,
   "metadata": {},
   "outputs": [],
   "source": [
    "import pickle\n",
    "\n",
    "from multiprocessing.pool import Pool\n",
    "\n",
    "import matplotlib.pyplot as plt\n",
    "import numpy as np\n",
    "import pandas as pd\n",
    "import seaborn as sns"
   ]
  },
  {
   "cell_type": "code",
   "execution_count": null,
   "metadata": {},
   "outputs": [],
   "source": [
    "%matplotlib inline"
   ]
  },
  {
   "cell_type": "markdown",
   "metadata": {},
   "source": [
    "## Load saved logistic regression model"
   ]
  },
  {
   "cell_type": "code",
   "execution_count": null,
   "metadata": {},
   "outputs": [],
   "source": [
    "with open('./data/saved_logistic_regression.pkl', 'rb') as f:\n",
    "    logistic_regression = pickle.load(f)"
   ]
  },
  {
   "cell_type": "markdown",
   "metadata": {},
   "source": [
    "## Load data"
   ]
  },
  {
   "cell_type": "code",
   "execution_count": null,
   "metadata": {},
   "outputs": [],
   "source": [
    "# From original. Adding Battle of Arras manually?\n",
    "arras_1 = {'Battle': ['Battle of Arras', 'Battle of Arras'], \n",
    "           'Date': ['21 May 1940', '21 May 1940'],\n",
    "           'Location': ['Arras', 'Arras'], \n",
    "           'Result': ['German victory', 'German victory'] ,\n",
    "           'belligerent': ['Erwin Rommel', 'Harold Franklyn'],\n",
    "           'opp': ['manual', 'manual'],\n",
    "           'own': ['manual', 'manual'], \n",
    "           'pos': ['R', 'L'],\n",
    "           'VorD': ['V', 'D'],\n",
    "           'Infantry': [7500.0, 2000.0],\n",
    "           'Cavalry': [225.0, 74.0],\n",
    "           'Artillery': [np.NaN, np.NaN],\n",
    "           'Ships': [np.NaN, np.NaN],\n",
    "           'Airforce': [np.NaN, np.NaN],\n",
    "           'Special': [np.NaN, np.NaN],\n",
    "           'year': [1940, 1940]}"
   ]
  },
  {
   "cell_type": "code",
   "execution_count": null,
   "metadata": {},
   "outputs": [],
   "source": [
    "df_strength_all = pd.read_csv('./data/current_run.csv', encoding='utf-8', index_col=0)\n",
    "df_strength_all['Battle'] = df_strength_all.Battle.str.replace('_',\" \")\n",
    "\n",
    "df_run = df_strength_all.loc[df_strength_all.VorD.notnull()]\n",
    "df_run = df_run.dropna(subset=['belligerent'])\n",
    "\n",
    "df_lookup = df_strength_all.drop_duplicates(subset=['Battle', 'pos'])\n",
    "df_strength_all = pd.concat([df_lookup, pd.DataFrame(arras_1, index=[10515, 10516])])\n",
    "\n",
    "df_run.sample(n=3)"
   ]
  },
  {
   "cell_type": "markdown",
   "metadata": {},
   "source": [
    "## Estimate WAR scores"
   ]
  },
  {
   "cell_type": "markdown",
   "metadata": {},
   "source": [
    "### Scoring function"
   ]
  },
  {
   "cell_type": "code",
   "execution_count": null,
   "metadata": {},
   "outputs": [],
   "source": [
    "flip_sides = {'L': 'R', 'R': 'L'}\n",
    "\n",
    "opponent_column_renames = {'Infantry': 'infantry_opp', \n",
    "                           'Cavalry': 'cavalry_opp', \n",
    "                           'Artillery': 'artillery_opp', \n",
    "                           'Ships':' ships_opp', \n",
    "                           'Airforce': 'airforce_opp',\n",
    "                           'Special': 'special_opp'}\n",
    "\n",
    "outcome_values = {'V': .5, 'D': -.5, 'I': 0}\n",
    "\n",
    "def estimate_WAR(general):\n",
    "    df_dbg = df_run.loc[df_run.belligerent == general]\n",
    "\n",
    "    war = 0    \n",
    "    battle_records = []\n",
    "    \n",
    "    for battle in df_dbg.Battle.unique():\n",
    "        row_ = df_dbg.loc[df_dbg.Battle == battle]\n",
    "        row = row_.iloc[0]\n",
    "        year = row.year\n",
    "        battle = row.Battle\n",
    "        outcome = row.VorD\n",
    "\n",
    "        df_str = df_lookup.loc[df_lookup.Battle == battle].reset_index(drop=True)\n",
    "        opp_row = df_str.loc[df_str.pos == flip_sides[row.pos]]\n",
    "            \n",
    "        # TODO: probably better ways to do this\n",
    "        own = row_.drop(['Battle', 'Date', 'Location', 'Result', 'belligerent', 'opp', 'own', 'pos', 'VorD', 'year'], axis=1)\n",
    "        opp = opp_row.drop(['Battle', 'Date', 'Location', 'Result', 'belligerent', 'opp', 'own', 'pos', 'VorD', 'year'], axis=1)\n",
    "        opp = opp.rename(columns=opponent_column_renames).reset_index(drop=True)\n",
    "\n",
    "        pred_row = pd.concat([pd.DataFrame(own), opp], axis=1)\n",
    "        pred_diff = pd.DataFrame()\n",
    "        \n",
    "        for k, v in opponent_column_renames.items():\n",
    "            x, y = pred_row[k], pred_row[v]\n",
    "            pred_diff[v.replace('opp', 'diff')] = (x - y) / (x + y)\n",
    "            \n",
    "        pred_diff.fillna(0, inplace=True)\n",
    "        pred_diff.drop(['artillery_diff', 'special_diff'], axis=1, inplace=True)\n",
    "            \n",
    "        df_pred = pd.DataFrame(logistic_regression.predict_proba(pred_diff))        \n",
    "\n",
    "        # Not sure how these checks were decided on\n",
    "        if len(df_str) == 1 or df_str.Infantry.loc[0] == 1.0 or df_str.Infantry.loc[1] == 1.0:\n",
    "            value = outcome_values[outcome]\n",
    "        else:\n",
    "            if outcome == 'V':\n",
    "                value = df_pred.iloc[0, 0]\n",
    "            elif outcome == 'D':\n",
    "                value = 0 - df_pred.iloc[0, 1]\n",
    "            elif outcome == 'I':\n",
    "                value = .5 - df_pred.iloc[0, 1]    \n",
    "        \n",
    "        war = war + value\n",
    "        war_per = float(war) / float(len(df_dbg))\n",
    "        \n",
    "        battle_records.append({'Battle': battle, 'Value': value, 'Year': year, 'Outcome': outcome})\n",
    "        \n",
    "    return {general: {'WAR': war, 'Battles': len(df_dbg), 'WAR_per_battle': war_per}}, {general: battle_records}"
   ]
  },
  {
   "cell_type": "markdown",
   "metadata": {},
   "source": [
    "### Compute WAR for all leaders"
   ]
  },
  {
   "cell_type": "code",
   "execution_count": null,
   "metadata": {},
   "outputs": [],
   "source": [
    "# These should have been taken care of as early as possible! Probably even more problem ones...\n",
    "excluded_leaders = set(['Capital punishment', 'Lieutenant general', '6th Panzer Army', \n",
    "                        'Navy', 'Tsar', 'Strategos', 'Knight', 'Kurdistan Democratic Party', \n",
    "                        'List of Khazar rulers', 'Commodore (rank)', 'II Corps (Pakistan)',\n",
    "                        'Air marshal', 'Air chief marshal', 'Captain (armed forces)', \n",
    "                        'Campuzano Polanco family', 'XX Corps (United Kingdom)', \n",
    "                        'American Civil War', 'Israeli Navy', 'Archduke', 'Arab Liberation Army',\n",
    "                        \"Eighty Years' War\", 'Central Command (India)', 'South Wales Borderers', \n",
    "                        'Big Red Meat', 'XI Corps (India)', 'Prime Minister of Israel', 'Army Group B', \n",
    "                        'Bangladesh Police'])\n",
    "\n",
    "generals = list(set(df_run.belligerent.tolist()) - excluded_leaders)\n",
    "\n",
    "# Need for speed\n",
    "with Pool(processes=8) as pool:\n",
    "    war_results = pool.map(estimate_WAR, generals)"
   ]
  },
  {
   "cell_type": "code",
   "execution_count": null,
   "metadata": {},
   "outputs": [],
   "source": [
    "# Unpack results from pool into separate DataFrames\n",
    "# war_results_df has per-general WAR scores and battle counts\n",
    "# battle_records_df has per-(general, battle) incremental values/attributions\n",
    "\n",
    "main_war_results, battle_records = list(zip(*war_results))\n",
    "\n",
    "war_results_df = pd.DataFrame.from_dict({k: v for w in main_war_results for k, v in w.items()}, orient='index')\n",
    "\n",
    "battle_records_ = []\n",
    "for i, rec in enumerate(battle_records):\n",
    "    for general, record_list in rec.items():\n",
    "        for r in record_list:\n",
    "            new_rec = {}\n",
    "            new_rec['General'] = general\n",
    "            new_rec.update(r)\n",
    "            battle_records_.append(new_rec)\n",
    "\n",
    "battle_records_df = pd.DataFrame(battle_records_)"
   ]
  },
  {
   "cell_type": "markdown",
   "metadata": {},
   "source": [
    "## Inspect results"
   ]
  },
  {
   "cell_type": "code",
   "execution_count": null,
   "metadata": {},
   "outputs": [],
   "source": [
    "war_results_df.sample(n=10)"
   ]
  },
  {
   "cell_type": "code",
   "execution_count": null,
   "metadata": {},
   "outputs": [],
   "source": [
    "war_results_df.loc['Pyrrhus of Epirus']"
   ]
  },
  {
   "cell_type": "code",
   "execution_count": null,
   "metadata": {},
   "outputs": [],
   "source": [
    "war_results_df.sort_values('WAR', ascending=False).head(10)"
   ]
  },
  {
   "cell_type": "code",
   "execution_count": null,
   "metadata": {},
   "outputs": [],
   "source": [
    "war_results_df.sort_values('WAR', ascending=False).tail(10)"
   ]
  },
  {
   "cell_type": "markdown",
   "metadata": {},
   "source": [
    "## Figures"
   ]
  },
  {
   "cell_type": "markdown",
   "metadata": {},
   "source": [
    "### WAR distribution\n",
    "\n",
    "Histogram of WAR scores. Annotated with leaders of interest."
   ]
  },
  {
   "cell_type": "code",
   "execution_count": null,
   "metadata": {},
   "outputs": [],
   "source": [
    "def annotate_hist(general, ax, offset=0, text_height=-400):\n",
    "    score = war_results_df.loc[general].WAR\n",
    "    ax.annotate(f\"{general}\\n({score:.2f})\", \n",
    "                zorder=-1,\n",
    "                xy=(score, -1),\n",
    "                xytext=(score - offset, text_height),\n",
    "                arrowprops={'facecolor': 'black', 'alpha': .2})\n",
    "    \n",
    "    return ax\n",
    "\n",
    "with plt.style.context('default'):\n",
    "    fig, axes = plt.subplots(1, 1, figsize=(8, 6), dpi=150)\n",
    "\n",
    "    sns.distplot(war_results_df['WAR'].values, kde=False, bins=45, \n",
    "                 ax=axes, hist_kws={'edgecolor': 'white'})\n",
    "\n",
    "    annotate_hist('Napoleon', axes, offset=.985)\n",
    "    annotate_hist('Julius Caesar', axes, offset=1.325)\n",
    "    annotate_hist('Ulysses S. Grant', axes, offset=1.71, text_height=-600)\n",
    "    annotate_hist('Robert E. Lee', axes, offset=1.37)\n",
    "    annotate_hist('Crazy Horse', axes, offset=1.25)\n",
    "\n",
    "plt.setp(axes, title='WAR Scores', ylabel='# Generals')\n",
    "\n",
    "sns.despine()\n",
    "fig.tight_layout()"
   ]
  },
  {
   "cell_type": "code",
   "execution_count": null,
   "metadata": {},
   "outputs": [],
   "source": []
  }
 ],
 "metadata": {
  "kernelspec": {
   "display_name": "research",
   "language": "python",
   "name": "research"
  },
  "language_info": {
   "codemirror_mode": {
    "name": "ipython",
    "version": 3
   },
   "file_extension": ".py",
   "mimetype": "text/x-python",
   "name": "python",
   "nbconvert_exporter": "python",
   "pygments_lexer": "ipython3",
   "version": "3.7.7"
  }
 },
 "nbformat": 4,
 "nbformat_minor": 4
}
